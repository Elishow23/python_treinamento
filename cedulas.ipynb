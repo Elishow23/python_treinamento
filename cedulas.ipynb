{
  "nbformat": 4,
  "nbformat_minor": 0,
  "metadata": {
    "colab": {
      "provenance": [],
      "authorship_tag": "ABX9TyNFvf9/yp/hL26Ww5IpBexv",
      "include_colab_link": true
    },
    "kernelspec": {
      "name": "python3",
      "display_name": "Python 3"
    },
    "language_info": {
      "name": "python"
    }
  },
  "cells": [
    {
      "cell_type": "markdown",
      "metadata": {
        "id": "view-in-github",
        "colab_type": "text"
      },
      "source": [
        "<a href=\"https://colab.research.google.com/github/Elishow23/python_treinamento/blob/main/cedulas.ipynb\" target=\"_parent\"><img src=\"https://colab.research.google.com/assets/colab-badge.svg\" alt=\"Open In Colab\"/></a>"
      ]
    },
    {
      "cell_type": "code",
      "execution_count": null,
      "metadata": {
        "colab": {
          "base_uri": "https://localhost:8080/"
        },
        "id": "8YFN3IAWMUhU",
        "outputId": "13daa6b2-2161-48d8-9f3a-f701dcba97d6"
      },
      "outputs": [
        {
          "output_type": "stream",
          "name": "stdout",
          "text": [
            "1257\n",
            "12 nota(s) de R$ 100,00\n",
            "1 nota(s) de R$ 50,00\n",
            "0 nota(s) de R$ 20,00\n",
            "0 nota(s) de R$ 10,00\n",
            "1 nota(s) de R$ 5,00\n",
            "1 nota(s) de R$ 2,00\n",
            "0 nota(s) de R$ 1,00\n"
          ]
        }
      ],
      "source": [
        "n = int(input())\n",
        "\n",
        "cem = int(n / 100)\n",
        "resto_cem = n - (100 * cem)\n",
        "ciquenta = int(resto_cem / 50)\n",
        "resto_ciquenta = resto_cem - (50 * ciquenta)\n",
        "vinte = int(resto_ciquenta / 20)\n",
        "resto_vinte = resto_ciquenta - (20 * vinte)\n",
        "dez = int(resto_vinte / 10)\n",
        "resto_dez = resto_vinte - (10 * dez)\n",
        "cinco = int(resto_dez / 5)\n",
        "resto_cinco = resto_dez - (5 * cinco)\n",
        "dois = int(resto_cinco / 2)\n",
        "resto_dois = resto_cinco - (2 * dois)\n",
        "um = int(resto_dois / 1)\n",
        "\n",
        "\n",
        "print(f'{cem} nota(s) de R$ 100,00')\n",
        "print(f'{ciquenta} nota(s) de R$ 50,00')\n",
        "print(f'{vinte} nota(s) de R$ 20,00')\n",
        "print(f'{dez} nota(s) de R$ 10,00')\n",
        "print(f'{cinco} nota(s) de R$ 5,00')\n",
        "print(f'{dois} nota(s) de R$ 2,00')\n",
        "print(f'{um} nota(s) de R$ 1,00')"
      ]
    }
  ]
}